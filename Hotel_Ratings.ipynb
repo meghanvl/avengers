{
 "cells": [
  {
   "cell_type": "code",
   "execution_count": 2,
   "metadata": {},
   "outputs": [
    {
     "ename": "ImportError",
     "evalue": "cannot import name 'g_key' from 'popconfig' (C:\\Users\\megha\\OneDrive\\Desktop\\HW\\Project files\\Project\\project_won\\popconfig.py)",
     "output_type": "error",
     "traceback": [
      "\u001b[1;31m---------------------------------------------------------------------------\u001b[0m",
      "\u001b[1;31mImportError\u001b[0m                               Traceback (most recent call last)",
      "\u001b[1;32m<ipython-input-2-2013aa971c97>\u001b[0m in \u001b[0;36m<module>\u001b[1;34m\u001b[0m\n\u001b[0;32m      4\u001b[0m \u001b[1;32mimport\u001b[0m \u001b[0mjson\u001b[0m\u001b[1;33m\u001b[0m\u001b[1;33m\u001b[0m\u001b[0m\n\u001b[0;32m      5\u001b[0m \u001b[1;33m\u001b[0m\u001b[0m\n\u001b[1;32m----> 6\u001b[1;33m \u001b[1;32mfrom\u001b[0m \u001b[0mpopconfig\u001b[0m \u001b[1;32mimport\u001b[0m \u001b[0mg_key\u001b[0m\u001b[1;33m\u001b[0m\u001b[1;33m\u001b[0m\u001b[0m\n\u001b[0m",
      "\u001b[1;31mImportError\u001b[0m: cannot import name 'g_key' from 'popconfig' (C:\\Users\\megha\\OneDrive\\Desktop\\HW\\Project files\\Project\\project_won\\popconfig.py)"
     ]
    }
   ],
   "source": [
    "import pandas as pd\n",
    "import numpy as np\n",
    "import requests\n",
    "import json\n",
    "\n",
    "from config import g_key"
   ]
  },
  {
   "cell_type": "code",
   "execution_count": null,
   "metadata": {},
   "outputs": [],
   "source": [
    "coord_list = [\"39.0999, -94.5771\",\n",
    "              \"29.95465, -90.07507\",\n",
    "              \"32.78306, -96.80667\",\n",
    "              \"45.52345, -122.67621\",\n",
    "              \"38.0293059, -78.4766781\",\n",
    "              \"41.85003, -87.65005\",\n",
    "              \"39.73915, -104.9847\",\n",
    "              \"43.54997, -96.70033\",\n",
    "              \"36.17497, -115.13722\",\n",
    "              \"37.77493, -122.41942\",\n",
    "              \"35.04563, -85.30968\",\n",
    "              \"42.35843, -71.05977\"  ]\n",
    "name = []\n",
    "lat = []\n",
    "lng = []\n",
    "rating = []\n",
    "vicinity = []\n",
    "\n",
    "for coords in coord_list:\n",
    "    target_coordinates = coords\n",
    "    target_search = \"hotel\"\n",
    "    target_radius = 8000\n",
    "    target_type = \"hotel\"\n",
    "\n",
    "# set up a parameters dictionary\n",
    "    params = {\"location\": target_coordinates,\n",
    "              \"keyword\": target_search,\n",
    "              \"radius\": target_radius,\n",
    "              \"type\": target_type,\n",
    "              \"key\": g_key}\n",
    "\n",
    "    base_url = \"https://maps.googleapis.com/maps/api/place/nearbysearch/json\"\n",
    "\n",
    "    response = requests.get(base_url, params=params).json()\n",
    "   \n",
    "    name.append(response[\"results\"][0][\"name\"])\n",
    "    lat.append(response[\"results\"][0][\"geometry\"][\"location\"][\"lat\"])\n",
    "    lng.append(response[\"results\"][0][\"geometry\"][\"location\"][\"lng\"]) \n",
    "    rating.append(response[\"results\"][0][\"rating\"])\n",
    "    vicinity.append(response[\"results\"][0][\"vicinity\"])\n",
    "    \n",
    "    name.append(response[\"results\"][1][\"name\"])\n",
    "    lat.append(response[\"results\"][1][\"geometry\"][\"location\"][\"lat\"])\n",
    "    lng.append(response[\"results\"][1][\"geometry\"][\"location\"][\"lng\"]) \n",
    "    rating.append(response[\"results\"][1][\"rating\"])\n",
    "    vicinity.append(response[\"results\"][1][\"vicinity\"])\n",
    "    \n",
    "    name.append(response[\"results\"][2][\"name\"])\n",
    "    lat.append(response[\"results\"][2][\"geometry\"][\"location\"][\"lat\"])\n",
    "    lng.append(response[\"results\"][2][\"geometry\"][\"location\"][\"lng\"]) \n",
    "    rating.append(response[\"results\"][2][\"rating\"])\n",
    "    vicinity.append(response[\"results\"][2][\"vicinity\"])\n",
    "    \n",
    "    name.append(response[\"results\"][3][\"name\"])\n",
    "    lat.append(response[\"results\"][3][\"geometry\"][\"location\"][\"lat\"])\n",
    "    lng.append(response[\"results\"][3][\"geometry\"][\"location\"][\"lng\"]) \n",
    "    rating.append(response[\"results\"][3][\"rating\"])\n",
    "    vicinity.append(response[\"results\"][3][\"vicinity\"])\n",
    "    \n",
    "    name.append(response[\"results\"][4][\"name\"])\n",
    "    lat.append(response[\"results\"][4][\"geometry\"][\"location\"][\"lat\"])\n",
    "    lng.append(response[\"results\"][4][\"geometry\"][\"location\"][\"lng\"]) \n",
    "    rating.append(response[\"results\"][4][\"rating\"])\n",
    "    vicinity.append(response[\"results\"][4][\"vicinity\"])\n",
    "    \n",
    "    name.append(response[\"results\"][5][\"name\"])\n",
    "    lat.append(response[\"results\"][5][\"geometry\"][\"location\"][\"lat\"])\n",
    "    lng.append(response[\"results\"][5][\"geometry\"][\"location\"][\"lng\"]) \n",
    "    rating.append(response[\"results\"][5][\"rating\"])\n",
    "    vicinity.append(response[\"results\"][5][\"vicinity\"])\n",
    "    \n",
    "    name.append(response[\"results\"][6][\"name\"])\n",
    "    lat.append(response[\"results\"][6][\"geometry\"][\"location\"][\"lat\"])\n",
    "    lng.append(response[\"results\"][6][\"geometry\"][\"location\"][\"lng\"]) \n",
    "    rating.append(response[\"results\"][6][\"rating\"])\n",
    "    vicinity.append(response[\"results\"][6][\"vicinity\"])\n",
    "    \n",
    "    name.append(response[\"results\"][7][\"name\"])\n",
    "    lat.append(response[\"results\"][7][\"geometry\"][\"location\"][\"lat\"])\n",
    "    lng.append(response[\"results\"][7][\"geometry\"][\"location\"][\"lng\"]) \n",
    "    rating.append(response[\"results\"][7][\"rating\"])\n",
    "    vicinity.append(response[\"results\"][7][\"vicinity\"])\n",
    "    \n",
    "    name.append(response[\"results\"][8][\"name\"])\n",
    "    lat.append(response[\"results\"][8][\"geometry\"][\"location\"][\"lat\"])\n",
    "    lng.append(response[\"results\"][8][\"geometry\"][\"location\"][\"lng\"]) \n",
    "    rating.append(response[\"results\"][8][\"rating\"])\n",
    "    vicinity.append(response[\"results\"][8][\"vicinity\"])\n",
    "    \n",
    "    name.append(response[\"results\"][9][\"name\"])\n",
    "    lat.append(response[\"results\"][9][\"geometry\"][\"location\"][\"lat\"])\n",
    "    lng.append(response[\"results\"][9][\"geometry\"][\"location\"][\"lng\"]) \n",
    "    rating.append(response[\"results\"][9][\"rating\"])\n",
    "    vicinity.append(response[\"results\"][9][\"vicinity\"])\n",
    "    \n",
    "    name.append(response[\"results\"][10][\"name\"])\n",
    "    lat.append(response[\"results\"][10][\"geometry\"][\"location\"][\"lat\"])\n",
    "    lng.append(response[\"results\"][10][\"geometry\"][\"location\"][\"lng\"]) \n",
    "    rating.append(response[\"results\"][10][\"rating\"])\n",
    "    vicinity.append(response[\"results\"][10][\"vicinity\"])\n",
    "    \n",
    "    name.append(response[\"results\"][11][\"name\"])\n",
    "    lat.append(response[\"results\"][11][\"geometry\"][\"location\"][\"lat\"])\n",
    "    lng.append(response[\"results\"][11][\"geometry\"][\"location\"][\"lng\"]) \n",
    "    rating.append(response[\"results\"][11][\"rating\"])\n",
    "    vicinity.append(response[\"results\"][11][\"vicinity\"])\n",
    "    \n",
    "    name.append(response[\"results\"][12][\"name\"])\n",
    "    lat.append(response[\"results\"][12][\"geometry\"][\"location\"][\"lat\"])\n",
    "    lng.append(response[\"results\"][12][\"geometry\"][\"location\"][\"lng\"]) \n",
    "    rating.append(response[\"results\"][12][\"rating\"])\n",
    "    vicinity.append(response[\"results\"][12][\"vicinity\"])\n",
    "    \n",
    "    name.append(response[\"results\"][13][\"name\"])\n",
    "    lat.append(response[\"results\"][13][\"geometry\"][\"location\"][\"lat\"])\n",
    "    lng.append(response[\"results\"][13][\"geometry\"][\"location\"][\"lng\"]) \n",
    "    rating.append(response[\"results\"][13][\"rating\"])\n",
    "    vicinity.append(response[\"results\"][13][\"vicinity\"])\n",
    "    \n",
    "    name.append(response[\"results\"][14][\"name\"])\n",
    "    lat.append(response[\"results\"][14][\"geometry\"][\"location\"][\"lat\"])\n",
    "    lng.append(response[\"results\"][14][\"geometry\"][\"location\"][\"lng\"]) \n",
    "    rating.append(response[\"results\"][14][\"rating\"])\n",
    "    vicinity.append(response[\"results\"][14][\"vicinity\"])\n",
    "    \n",
    "    name.append(response[\"results\"][15][\"name\"])\n",
    "    lat.append(response[\"results\"][15][\"geometry\"][\"location\"][\"lat\"])\n",
    "    lng.append(response[\"results\"][15][\"geometry\"][\"location\"][\"lng\"]) \n",
    "    rating.append(response[\"results\"][15][\"rating\"])\n",
    "    vicinity.append(response[\"results\"][15][\"vicinity\"])\n",
    "    \n",
    "    name.append(response[\"results\"][16][\"name\"])\n",
    "    lat.append(response[\"results\"][16][\"geometry\"][\"location\"][\"lat\"])\n",
    "    lng.append(response[\"results\"][16][\"geometry\"][\"location\"][\"lng\"]) \n",
    "    rating.append(response[\"results\"][16][\"rating\"])\n",
    "    vicinity.append(response[\"results\"][16][\"vicinity\"])\n",
    "    \n",
    "    name.append(response[\"results\"][17][\"name\"])\n",
    "    lat.append(response[\"results\"][17][\"geometry\"][\"location\"][\"lat\"])\n",
    "    lng.append(response[\"results\"][17][\"geometry\"][\"location\"][\"lng\"]) \n",
    "    rating.append(response[\"results\"][17][\"rating\"])\n",
    "    vicinity.append(response[\"results\"][17][\"vicinity\"])\n",
    "    \n",
    "    name.append(response[\"results\"][18][\"name\"])\n",
    "    lat.append(response[\"results\"][18][\"geometry\"][\"location\"][\"lat\"])\n",
    "    lng.append(response[\"results\"][18][\"geometry\"][\"location\"][\"lng\"]) \n",
    "    rating.append(response[\"results\"][18][\"rating\"])\n",
    "    vicinity.append(response[\"results\"][18][\"vicinity\"])\n",
    "    \n",
    "    name.append(response[\"results\"][19][\"name\"])\n",
    "    lat.append(response[\"results\"][19][\"geometry\"][\"location\"][\"lat\"])\n",
    "    lng.append(response[\"results\"][19][\"geometry\"][\"location\"][\"lng\"]) \n",
    "    rating.append(response[\"results\"][19][\"rating\"])\n",
    "    vicinity.append(response[\"results\"][19][\"vicinity\"])"
   ]
  },
  {
   "cell_type": "code",
   "execution_count": null,
   "metadata": {},
   "outputs": [],
   "source": [
    "hotel_list = {\"Hotel\": name, \"Lat\": lat, \"Lng\": lng, \"Hotel Rating\": rating, \"Vicinity\": vicinity}\n",
    "hotel_df = pd.DataFrame(hotel_list)\n",
    "hotel_df"
   ]
  },
  {
   "cell_type": "code",
   "execution_count": null,
   "metadata": {},
   "outputs": [],
   "source": [
    "hotel_df.to_csv(\"hotel_ratings.csv\", encoding=\"utf-8\", index=False)"
   ]
  },
  {
   "cell_type": "code",
   "execution_count": null,
   "metadata": {},
   "outputs": [],
   "source": [
    "kansascity_hotels = hotel_df[hotel_df[\"Vicinity\"].str.contains(\"Kansas City\")]\n",
    "kansascity_hotels\n",
    "kansascity_hotels.to_csv(\"kansascity_hotels.csv\", encoding=\"utf-8\", index=False)"
   ]
  },
  {
   "cell_type": "code",
   "execution_count": null,
   "metadata": {},
   "outputs": [],
   "source": [
    "kansascity_avg = round(kansascity_hotels[\"Hotel Rating\"].mean(),2)\n",
    "kansascity_avg "
   ]
  },
  {
   "cell_type": "code",
   "execution_count": null,
   "metadata": {},
   "outputs": [],
   "source": [
    "neworleans_hotels = hotel_df[hotel_df[\"Vicinity\"].str.contains(\"New Orleans\")]\n",
    "neworleans_hotels"
   ]
  },
  {
   "cell_type": "code",
   "execution_count": null,
   "metadata": {},
   "outputs": [],
   "source": [
    "neworleans_avg = round(neworleans_hotels[\"Hotel Rating\"].mean(),2)\n",
    "neworleans_avg "
   ]
  },
  {
   "cell_type": "code",
   "execution_count": null,
   "metadata": {},
   "outputs": [],
   "source": [
    "dallas_hotels = hotel_df[hotel_df[\"Vicinity\"].str.contains(\"Dallas\")]\n",
    "dallas_hotels"
   ]
  },
  {
   "cell_type": "code",
   "execution_count": null,
   "metadata": {},
   "outputs": [],
   "source": [
    "dallas_avg = round(dallas_hotels[\"Hotel Rating\"].mean(),2)\n",
    "dallas_avg "
   ]
  },
  {
   "cell_type": "code",
   "execution_count": null,
   "metadata": {},
   "outputs": [],
   "source": [
    "portland_hotels = hotel_df[hotel_df[\"Vicinity\"].str.contains(\"Portland\")]\n",
    "portland_hotels"
   ]
  },
  {
   "cell_type": "code",
   "execution_count": null,
   "metadata": {},
   "outputs": [],
   "source": [
    "portland_avg = round(portland_hotels[\"Hotel Rating\"].mean(),2)\n",
    "portland_avg "
   ]
  },
  {
   "cell_type": "code",
   "execution_count": null,
   "metadata": {},
   "outputs": [],
   "source": [
    "charlottesville_hotels = hotel_df[hotel_df[\"Vicinity\"].str.contains(\"Charlottesville\")]\n",
    "charlottesville_hotels"
   ]
  },
  {
   "cell_type": "code",
   "execution_count": null,
   "metadata": {},
   "outputs": [],
   "source": [
    "charlottesville_avg = round(charlottesville_hotels[\"Hotel Rating\"].mean(),2)\n",
    "charlottesville_avg"
   ]
  },
  {
   "cell_type": "code",
   "execution_count": null,
   "metadata": {},
   "outputs": [],
   "source": [
    "chicago_hotels = hotel_df[hotel_df[\"Vicinity\"].str.contains(\"Chicago\")]\n",
    "chicago_hotels"
   ]
  },
  {
   "cell_type": "code",
   "execution_count": null,
   "metadata": {},
   "outputs": [],
   "source": [
    "chicago_avg = round(chicago_hotels[\"Hotel Rating\"].mean(),2)\n",
    "chicago_avg"
   ]
  },
  {
   "cell_type": "code",
   "execution_count": null,
   "metadata": {},
   "outputs": [],
   "source": [
    "denver_hotels = hotel_df[hotel_df[\"Vicinity\"].str.contains(\"Denver\")]\n",
    "denver_hotels"
   ]
  },
  {
   "cell_type": "code",
   "execution_count": null,
   "metadata": {},
   "outputs": [],
   "source": [
    "denver_avg = round(denver_hotels[\"Hotel Rating\"].mean(),2)\n",
    "denver_avg"
   ]
  },
  {
   "cell_type": "code",
   "execution_count": null,
   "metadata": {},
   "outputs": [],
   "source": [
    "siouxfalls_hotels = hotel_df[hotel_df[\"Vicinity\"].str.contains(\"Sioux Falls\")]\n",
    "siouxfalls_hotels"
   ]
  },
  {
   "cell_type": "code",
   "execution_count": null,
   "metadata": {},
   "outputs": [],
   "source": [
    "siouxfalls_avg = round(siouxfalls_hotels[\"Hotel Rating\"].mean(),2)\n",
    "siouxfalls_avg"
   ]
  },
  {
   "cell_type": "code",
   "execution_count": null,
   "metadata": {},
   "outputs": [],
   "source": [
    "lasvegas_hotels = hotel_df[hotel_df[\"Vicinity\"].str.contains(\"Las Vegas\")]\n",
    "lasvegas_hotels"
   ]
  },
  {
   "cell_type": "code",
   "execution_count": null,
   "metadata": {},
   "outputs": [],
   "source": [
    "lasvegas_avg = round(lasvegas_hotels[\"Hotel Rating\"].mean(),2)\n",
    "lasvegas_avg"
   ]
  },
  {
   "cell_type": "code",
   "execution_count": null,
   "metadata": {},
   "outputs": [],
   "source": [
    "sanfrancisco_hotels = hotel_df[hotel_df[\"Vicinity\"].str.contains(\"San Francisco\")]\n",
    "sanfrancisco_hotels"
   ]
  },
  {
   "cell_type": "code",
   "execution_count": null,
   "metadata": {},
   "outputs": [],
   "source": [
    "sanfrancisco_avg = round(sanfrancisco_hotels[\"Hotel Rating\"].mean(),2)\n",
    "sanfrancisco_avg"
   ]
  },
  {
   "cell_type": "code",
   "execution_count": null,
   "metadata": {},
   "outputs": [],
   "source": [
    "chattanooga_hotels = hotel_df[hotel_df[\"Vicinity\"].str.contains(\"Chattanooga\")]\n",
    "chattanooga_hotels"
   ]
  },
  {
   "cell_type": "code",
   "execution_count": null,
   "metadata": {},
   "outputs": [],
   "source": [
    "chattanooga_avg = round(chattanooga_hotels[\"Hotel Rating\"].mean(),2)\n",
    "chattanooga_avg"
   ]
  },
  {
   "cell_type": "code",
   "execution_count": null,
   "metadata": {},
   "outputs": [],
   "source": [
    "boston_hotels = hotel_df[hotel_df[\"Vicinity\"].str.contains(\"Boston\")]\n",
    "boston_hotels"
   ]
  },
  {
   "cell_type": "code",
   "execution_count": null,
   "metadata": {},
   "outputs": [],
   "source": [
    "boston_avg = round(boston_hotels[\"Hotel Rating\"].mean(),2)\n",
    "boston_avg"
   ]
  },
  {
   "cell_type": "code",
   "execution_count": null,
   "metadata": {},
   "outputs": [],
   "source": []
  }
 ],
 "metadata": {
  "kernelspec": {
   "display_name": "Pandasenv",
   "language": "python",
   "name": "pandasenv"
  },
  "language_info": {
   "codemirror_mode": {
    "name": "ipython",
    "version": 3
   },
   "file_extension": ".py",
   "mimetype": "text/x-python",
   "name": "python",
   "nbconvert_exporter": "python",
   "pygments_lexer": "ipython3",
   "version": "3.8.3"
  }
 },
 "nbformat": 4,
 "nbformat_minor": 4
}
