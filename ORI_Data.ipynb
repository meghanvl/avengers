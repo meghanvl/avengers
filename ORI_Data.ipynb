{
 "cells": [
  {
   "cell_type": "markdown",
   "metadata": {},
   "source": [
    "Population  \n",
    "Kansas City, MO - Population per Google - 491,918  \n",
    "New Orleans, LA - Population 391,000  \n",
    "Dallas, TX - Population 1.3 million  \n",
    "Portland, OR - population 653,000  \n",
    "Charlottesville, VA - population 48,000  \n",
    "Chicago, IL - Population 2.7 million  \n",
    "Denver, CO - Population 727,211  \n",
    "Sioux Falls, SD - Pupulation 181,883  \n",
    "Las Vegas, NV - Population 644,644  \n",
    "San Francisco, CA - Population 3.3 million  \n",
    "Chattanouga, TN - Population 180,000  \n",
    "Boston, MA - Population 4.3 million  "
   ]
  },
  {
   "cell_type": "markdown",
   "metadata": {},
   "source": [
    "#https://www.icpsr.umich.edu/files/NACJD/ORIs/STATESoris.html\n",
    "#ORI Pulled from website  \n",
    "KANSAS CITY POLICE DEPARTMENT ORI MOKPD0000   \n",
    "NEW ORLEANS POLICE DEPARTMENT ORI LANPD0000    \n",
    "DALLAS POLICE DEPARTMENT ORI TXDPD0000  \n",
    "PORTLAND POLICE BUREAU ORI OR0260200   \n",
    "CHARLOTTESVILLE POLICE DEPT ORI VA1020000   \n",
    "CHICAGO POLICE DEPT ORI    ILCPD0000    \n",
    "DENVER POLICE DEPARTMENT ORI CODPD0000  \n",
    "SIOUX FALLS POLICE DEPARTMENT    ORI   SD0490200  \n",
    "LAS VEGAS METRO POLICE DEPARTMENT ORI NV0020100  \n",
    "SAN FRANCISCO POLICE DEPARTMENT  ORI   CA0380100  \n",
    "CHATTANOOGA POLICE DEPARTMENT ORI TN0330100  \n",
    "BOSTON POLICE DEPARTMENT ORI MA0130100  "
   ]
  },
  {
   "cell_type": "code",
   "execution_count": null,
   "metadata": {},
   "outputs": [],
   "source": []
  }
 ],
 "metadata": {
  "kernelspec": {
   "display_name": "PythonAdv",
   "language": "python",
   "name": "pythonadv"
  },
  "language_info": {
   "codemirror_mode": {
    "name": "ipython",
    "version": 3
   },
   "file_extension": ".py",
   "mimetype": "text/x-python",
   "name": "python",
   "nbconvert_exporter": "python",
   "pygments_lexer": "ipython3",
   "version": "3.6.10"
  }
 },
 "nbformat": 4,
 "nbformat_minor": 4
}
